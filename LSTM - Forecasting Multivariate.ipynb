{
 "cells": [
  {
   "cell_type": "code",
   "execution_count": 193,
   "id": "9638dbce",
   "metadata": {},
   "outputs": [],
   "source": [
    "import numpy as np\n",
    "import pandas as pd"
   ]
  },
  {
   "cell_type": "code",
   "execution_count": 194,
   "id": "3db58e46",
   "metadata": {},
   "outputs": [],
   "source": [
    "from datetime import datetime"
   ]
  },
  {
   "cell_type": "code",
   "execution_count": 195,
   "id": "6725e4b3",
   "metadata": {},
   "outputs": [
    {
     "data": {
      "text/html": [
       "<div>\n",
       "<style scoped>\n",
       "    .dataframe tbody tr th:only-of-type {\n",
       "        vertical-align: middle;\n",
       "    }\n",
       "\n",
       "    .dataframe tbody tr th {\n",
       "        vertical-align: top;\n",
       "    }\n",
       "\n",
       "    .dataframe thead th {\n",
       "        text-align: right;\n",
       "    }\n",
       "</style>\n",
       "<table border=\"1\" class=\"dataframe\">\n",
       "  <thead>\n",
       "    <tr style=\"text-align: right;\">\n",
       "      <th></th>\n",
       "      <th>Date</th>\n",
       "      <th>Symbol</th>\n",
       "      <th>Series</th>\n",
       "      <th>Prev Close</th>\n",
       "      <th>Open</th>\n",
       "      <th>High</th>\n",
       "      <th>Low</th>\n",
       "      <th>Last</th>\n",
       "      <th>Close</th>\n",
       "      <th>VWAP</th>\n",
       "      <th>Volume</th>\n",
       "      <th>Turnover</th>\n",
       "      <th>Trades</th>\n",
       "      <th>Deliverable Volume</th>\n",
       "      <th>%Deliverble</th>\n",
       "    </tr>\n",
       "  </thead>\n",
       "  <tbody>\n",
       "    <tr>\n",
       "      <th>0</th>\n",
       "      <td>2007-11-27</td>\n",
       "      <td>MUNDRAPORT</td>\n",
       "      <td>EQ</td>\n",
       "      <td>440.00</td>\n",
       "      <td>770.00</td>\n",
       "      <td>1050.00</td>\n",
       "      <td>770.00</td>\n",
       "      <td>959.00</td>\n",
       "      <td>962.90</td>\n",
       "      <td>984.72</td>\n",
       "      <td>27294366</td>\n",
       "      <td>2.687719e+15</td>\n",
       "      <td>NaN</td>\n",
       "      <td>9859619.0</td>\n",
       "      <td>0.3612</td>\n",
       "    </tr>\n",
       "    <tr>\n",
       "      <th>1</th>\n",
       "      <td>2007-11-28</td>\n",
       "      <td>MUNDRAPORT</td>\n",
       "      <td>EQ</td>\n",
       "      <td>962.90</td>\n",
       "      <td>984.00</td>\n",
       "      <td>990.00</td>\n",
       "      <td>874.00</td>\n",
       "      <td>885.00</td>\n",
       "      <td>893.90</td>\n",
       "      <td>941.38</td>\n",
       "      <td>4581338</td>\n",
       "      <td>4.312765e+14</td>\n",
       "      <td>NaN</td>\n",
       "      <td>1453278.0</td>\n",
       "      <td>0.3172</td>\n",
       "    </tr>\n",
       "    <tr>\n",
       "      <th>2</th>\n",
       "      <td>2007-11-29</td>\n",
       "      <td>MUNDRAPORT</td>\n",
       "      <td>EQ</td>\n",
       "      <td>893.90</td>\n",
       "      <td>909.00</td>\n",
       "      <td>914.75</td>\n",
       "      <td>841.00</td>\n",
       "      <td>887.00</td>\n",
       "      <td>884.20</td>\n",
       "      <td>888.09</td>\n",
       "      <td>5124121</td>\n",
       "      <td>4.550658e+14</td>\n",
       "      <td>NaN</td>\n",
       "      <td>1069678.0</td>\n",
       "      <td>0.2088</td>\n",
       "    </tr>\n",
       "    <tr>\n",
       "      <th>3</th>\n",
       "      <td>2007-11-30</td>\n",
       "      <td>MUNDRAPORT</td>\n",
       "      <td>EQ</td>\n",
       "      <td>884.20</td>\n",
       "      <td>890.00</td>\n",
       "      <td>958.00</td>\n",
       "      <td>890.00</td>\n",
       "      <td>929.00</td>\n",
       "      <td>921.55</td>\n",
       "      <td>929.17</td>\n",
       "      <td>4609762</td>\n",
       "      <td>4.283257e+14</td>\n",
       "      <td>NaN</td>\n",
       "      <td>1260913.0</td>\n",
       "      <td>0.2735</td>\n",
       "    </tr>\n",
       "    <tr>\n",
       "      <th>4</th>\n",
       "      <td>2007-12-03</td>\n",
       "      <td>MUNDRAPORT</td>\n",
       "      <td>EQ</td>\n",
       "      <td>921.55</td>\n",
       "      <td>939.75</td>\n",
       "      <td>995.00</td>\n",
       "      <td>922.00</td>\n",
       "      <td>980.00</td>\n",
       "      <td>969.30</td>\n",
       "      <td>965.65</td>\n",
       "      <td>2977470</td>\n",
       "      <td>2.875200e+14</td>\n",
       "      <td>NaN</td>\n",
       "      <td>816123.0</td>\n",
       "      <td>0.2741</td>\n",
       "    </tr>\n",
       "    <tr>\n",
       "      <th>...</th>\n",
       "      <td>...</td>\n",
       "      <td>...</td>\n",
       "      <td>...</td>\n",
       "      <td>...</td>\n",
       "      <td>...</td>\n",
       "      <td>...</td>\n",
       "      <td>...</td>\n",
       "      <td>...</td>\n",
       "      <td>...</td>\n",
       "      <td>...</td>\n",
       "      <td>...</td>\n",
       "      <td>...</td>\n",
       "      <td>...</td>\n",
       "      <td>...</td>\n",
       "      <td>...</td>\n",
       "    </tr>\n",
       "    <tr>\n",
       "      <th>235187</th>\n",
       "      <td>2021-04-26</td>\n",
       "      <td>ZEEL</td>\n",
       "      <td>EQ</td>\n",
       "      <td>188.00</td>\n",
       "      <td>190.60</td>\n",
       "      <td>191.10</td>\n",
       "      <td>185.10</td>\n",
       "      <td>186.70</td>\n",
       "      <td>186.40</td>\n",
       "      <td>187.35</td>\n",
       "      <td>8542755</td>\n",
       "      <td>1.600451e+14</td>\n",
       "      <td>52374.0</td>\n",
       "      <td>2340188.0</td>\n",
       "      <td>0.2739</td>\n",
       "    </tr>\n",
       "    <tr>\n",
       "      <th>235188</th>\n",
       "      <td>2021-04-27</td>\n",
       "      <td>ZEEL</td>\n",
       "      <td>EQ</td>\n",
       "      <td>186.40</td>\n",
       "      <td>188.00</td>\n",
       "      <td>192.95</td>\n",
       "      <td>186.80</td>\n",
       "      <td>188.80</td>\n",
       "      <td>188.15</td>\n",
       "      <td>189.41</td>\n",
       "      <td>14247767</td>\n",
       "      <td>2.698636e+14</td>\n",
       "      <td>73673.0</td>\n",
       "      <td>5425957.0</td>\n",
       "      <td>0.3808</td>\n",
       "    </tr>\n",
       "    <tr>\n",
       "      <th>235189</th>\n",
       "      <td>2021-04-28</td>\n",
       "      <td>ZEEL</td>\n",
       "      <td>EQ</td>\n",
       "      <td>188.15</td>\n",
       "      <td>188.80</td>\n",
       "      <td>190.60</td>\n",
       "      <td>187.10</td>\n",
       "      <td>188.95</td>\n",
       "      <td>189.10</td>\n",
       "      <td>188.85</td>\n",
       "      <td>8429439</td>\n",
       "      <td>1.591917e+14</td>\n",
       "      <td>44056.0</td>\n",
       "      <td>2413974.0</td>\n",
       "      <td>0.2864</td>\n",
       "    </tr>\n",
       "    <tr>\n",
       "      <th>235190</th>\n",
       "      <td>2021-04-29</td>\n",
       "      <td>ZEEL</td>\n",
       "      <td>EQ</td>\n",
       "      <td>189.10</td>\n",
       "      <td>190.80</td>\n",
       "      <td>191.65</td>\n",
       "      <td>186.00</td>\n",
       "      <td>186.60</td>\n",
       "      <td>186.55</td>\n",
       "      <td>187.44</td>\n",
       "      <td>9483009</td>\n",
       "      <td>1.777471e+14</td>\n",
       "      <td>60932.0</td>\n",
       "      <td>2744472.0</td>\n",
       "      <td>0.2894</td>\n",
       "    </tr>\n",
       "    <tr>\n",
       "      <th>235191</th>\n",
       "      <td>2021-04-30</td>\n",
       "      <td>ZEEL</td>\n",
       "      <td>EQ</td>\n",
       "      <td>186.55</td>\n",
       "      <td>185.30</td>\n",
       "      <td>190.95</td>\n",
       "      <td>183.65</td>\n",
       "      <td>185.00</td>\n",
       "      <td>185.60</td>\n",
       "      <td>187.53</td>\n",
       "      <td>11435285</td>\n",
       "      <td>2.144440e+14</td>\n",
       "      <td>62607.0</td>\n",
       "      <td>3323909.0</td>\n",
       "      <td>0.2907</td>\n",
       "    </tr>\n",
       "  </tbody>\n",
       "</table>\n",
       "<p>235192 rows × 15 columns</p>\n",
       "</div>"
      ],
      "text/plain": [
       "              Date      Symbol Series  Prev Close    Open     High     Low  \\\n",
       "0       2007-11-27  MUNDRAPORT     EQ      440.00  770.00  1050.00  770.00   \n",
       "1       2007-11-28  MUNDRAPORT     EQ      962.90  984.00   990.00  874.00   \n",
       "2       2007-11-29  MUNDRAPORT     EQ      893.90  909.00   914.75  841.00   \n",
       "3       2007-11-30  MUNDRAPORT     EQ      884.20  890.00   958.00  890.00   \n",
       "4       2007-12-03  MUNDRAPORT     EQ      921.55  939.75   995.00  922.00   \n",
       "...            ...         ...    ...         ...     ...      ...     ...   \n",
       "235187  2021-04-26        ZEEL     EQ      188.00  190.60   191.10  185.10   \n",
       "235188  2021-04-27        ZEEL     EQ      186.40  188.00   192.95  186.80   \n",
       "235189  2021-04-28        ZEEL     EQ      188.15  188.80   190.60  187.10   \n",
       "235190  2021-04-29        ZEEL     EQ      189.10  190.80   191.65  186.00   \n",
       "235191  2021-04-30        ZEEL     EQ      186.55  185.30   190.95  183.65   \n",
       "\n",
       "          Last   Close    VWAP    Volume      Turnover   Trades  \\\n",
       "0       959.00  962.90  984.72  27294366  2.687719e+15      NaN   \n",
       "1       885.00  893.90  941.38   4581338  4.312765e+14      NaN   \n",
       "2       887.00  884.20  888.09   5124121  4.550658e+14      NaN   \n",
       "3       929.00  921.55  929.17   4609762  4.283257e+14      NaN   \n",
       "4       980.00  969.30  965.65   2977470  2.875200e+14      NaN   \n",
       "...        ...     ...     ...       ...           ...      ...   \n",
       "235187  186.70  186.40  187.35   8542755  1.600451e+14  52374.0   \n",
       "235188  188.80  188.15  189.41  14247767  2.698636e+14  73673.0   \n",
       "235189  188.95  189.10  188.85   8429439  1.591917e+14  44056.0   \n",
       "235190  186.60  186.55  187.44   9483009  1.777471e+14  60932.0   \n",
       "235191  185.00  185.60  187.53  11435285  2.144440e+14  62607.0   \n",
       "\n",
       "        Deliverable Volume  %Deliverble  \n",
       "0                9859619.0       0.3612  \n",
       "1                1453278.0       0.3172  \n",
       "2                1069678.0       0.2088  \n",
       "3                1260913.0       0.2735  \n",
       "4                 816123.0       0.2741  \n",
       "...                    ...          ...  \n",
       "235187           2340188.0       0.2739  \n",
       "235188           5425957.0       0.3808  \n",
       "235189           2413974.0       0.2864  \n",
       "235190           2744472.0       0.2894  \n",
       "235191           3323909.0       0.2907  \n",
       "\n",
       "[235192 rows x 15 columns]"
      ]
     },
     "execution_count": 195,
     "metadata": {},
     "output_type": "execute_result"
    }
   ],
   "source": [
    "df = pd.read_csv(\"E:/Userfiles/Download/archive (2)/NIFTY50_all.csv\")\n",
    "df"
   ]
  },
  {
   "cell_type": "code",
   "execution_count": 196,
   "id": "93cacddd",
   "metadata": {},
   "outputs": [
    {
     "name": "stdout",
     "output_type": "stream",
     "text": [
      "<class 'pandas.core.frame.DataFrame'>\n",
      "RangeIndex: 235192 entries, 0 to 235191\n",
      "Data columns (total 15 columns):\n",
      " #   Column              Non-Null Count   Dtype  \n",
      "---  ------              --------------   -----  \n",
      " 0   Date                235192 non-null  object \n",
      " 1   Symbol              235192 non-null  object \n",
      " 2   Series              235192 non-null  object \n",
      " 3   Prev Close          235192 non-null  float64\n",
      " 4   Open                235192 non-null  float64\n",
      " 5   High                235192 non-null  float64\n",
      " 6   Low                 235192 non-null  float64\n",
      " 7   Last                235192 non-null  float64\n",
      " 8   Close               235192 non-null  float64\n",
      " 9   VWAP                235192 non-null  float64\n",
      " 10  Volume              235192 non-null  int64  \n",
      " 11  Turnover            235192 non-null  float64\n",
      " 12  Trades              120344 non-null  float64\n",
      " 13  Deliverable Volume  219115 non-null  float64\n",
      " 14  %Deliverble         219115 non-null  float64\n",
      "dtypes: float64(11), int64(1), object(3)\n",
      "memory usage: 26.9+ MB\n"
     ]
    }
   ],
   "source": [
    "df.info()"
   ]
  },
  {
   "cell_type": "code",
   "execution_count": 197,
   "id": "5d68bdbe",
   "metadata": {},
   "outputs": [],
   "source": [
    "df1=df.iloc[:1000, :]"
   ]
  },
  {
   "cell_type": "code",
   "execution_count": 198,
   "id": "3434477d",
   "metadata": {},
   "outputs": [
    {
     "name": "stdout",
     "output_type": "stream",
     "text": [
      "0     2007-11-27\n",
      "1     2007-11-28\n",
      "2     2007-11-29\n",
      "3     2007-11-30\n",
      "4     2007-12-03\n",
      "         ...    \n",
      "995   2011-12-09\n",
      "996   2011-12-12\n",
      "997   2011-12-13\n",
      "998   2011-12-14\n",
      "999   2011-12-15\n",
      "Name: Date, Length: 1000, dtype: datetime64[ns]\n"
     ]
    }
   ],
   "source": [
    "train_dates = pd.to_datetime(df1['Date'])\n",
    "print(train_dates)"
   ]
  },
  {
   "cell_type": "code",
   "execution_count": 199,
   "id": "f277c801",
   "metadata": {},
   "outputs": [
    {
     "name": "stdout",
     "output_type": "stream",
     "text": [
      "['Prev Close', 'Open', 'High', 'Low', 'Last', 'Close']\n"
     ]
    }
   ],
   "source": [
    "cols = list(df1)[3:9]\n",
    "#Date and volume columns are not used in training. \n",
    "print(cols)"
   ]
  },
  {
   "cell_type": "code",
   "execution_count": 200,
   "id": "5ec7d284",
   "metadata": {},
   "outputs": [],
   "source": [
    "df_for_training = df1[cols].astype(float)"
   ]
  },
  {
   "cell_type": "code",
   "execution_count": 201,
   "id": "990e58e6",
   "metadata": {},
   "outputs": [],
   "source": [
    "#LSTM uses sigmoid and tanh that are sensitive to magnitude so values need to be normalized\n",
    "# normalize the dataset\n",
    "from sklearn.preprocessing import StandardScaler\n",
    "scaler = StandardScaler()\n",
    "scaler = scaler.fit(df_for_training)\n",
    "df_for_training_scaled = scaler.transform(df_for_training)"
   ]
  },
  {
   "cell_type": "code",
   "execution_count": 202,
   "id": "5106e2ee",
   "metadata": {},
   "outputs": [],
   "source": [
    "#Empty lists to be populated using formatted training data\n",
    "trainX = []\n",
    "trainY = []\n"
   ]
  },
  {
   "cell_type": "code",
   "execution_count": 203,
   "id": "7fcd1d02",
   "metadata": {},
   "outputs": [],
   "source": [
    "n_future = 1   # Number of days we want to look into the future based on the past days.\n",
    "n_past = 14  # Number of past days we want to use to predict the future.\n",
    "\n",
    "#Reformat input data into a shape: (n_samples x timesteps x n_features)\n",
    "#In my example, my df_for_training_scaled has a shape (12823, 5)\n",
    "#12823 refers to the number of data points and 5 refers to the columns (multi-variables).\n",
    "for i in range(n_past, len(df_for_training_scaled) - n_future +1):\n",
    "    trainX.append(df_for_training_scaled[i - n_past:i, 0:df_for_training.shape[1]])\n",
    "    trainY.append(df_for_training_scaled[i + n_future - 1:i + n_future, 0])\n",
    "\n",
    "trainX, trainY = np.array(trainX), np.array(trainY)\n"
   ]
  },
  {
   "cell_type": "code",
   "execution_count": 204,
   "id": "cc6686a8",
   "metadata": {},
   "outputs": [
    {
     "name": "stdout",
     "output_type": "stream",
     "text": [
      "trainX shape == (986, 14, 6).\n",
      "trainY shape == (986, 1).\n"
     ]
    }
   ],
   "source": [
    "print('trainX shape == {}.'.format(trainX.shape))\n",
    "print('trainY shape == {}.'.format(trainY.shape))"
   ]
  },
  {
   "cell_type": "code",
   "execution_count": 205,
   "id": "82098d13",
   "metadata": {},
   "outputs": [],
   "source": [
    "from tensorflow.keras.models import Sequential\n",
    "from tensorflow.keras.layers import LSTM\n",
    "from tensorflow.keras.layers import Dense, Dropout"
   ]
  },
  {
   "cell_type": "code",
   "execution_count": 206,
   "id": "b62d331a",
   "metadata": {},
   "outputs": [],
   "source": [
    "model = Sequential()\n",
    "model.add(LSTM(64, activation='relu', input_shape=(trainX.shape[1], trainX.shape[2]), return_sequences=True))\n",
    "model.add(LSTM(32, activation='relu', return_sequences=False))\n",
    "model.add(Dropout(0.2))\n",
    "model.add(Dense(trainY.shape[1]))"
   ]
  },
  {
   "cell_type": "code",
   "execution_count": 207,
   "id": "591ed3ef",
   "metadata": {},
   "outputs": [
    {
     "name": "stdout",
     "output_type": "stream",
     "text": [
      "Model: \"sequential_2\"\n",
      "_________________________________________________________________\n",
      " Layer (type)                Output Shape              Param #   \n",
      "=================================================================\n",
      " lstm_4 (LSTM)               (None, 14, 64)            18176     \n",
      "                                                                 \n",
      " lstm_5 (LSTM)               (None, 32)                12416     \n",
      "                                                                 \n",
      " dropout_2 (Dropout)         (None, 32)                0         \n",
      "                                                                 \n",
      " dense_2 (Dense)             (None, 1)                 33        \n",
      "                                                                 \n",
      "=================================================================\n",
      "Total params: 30,625\n",
      "Trainable params: 30,625\n",
      "Non-trainable params: 0\n",
      "_________________________________________________________________\n"
     ]
    }
   ],
   "source": [
    "model.compile(optimizer='adam', loss='mse')\n",
    "model.summary()"
   ]
  },
  {
   "cell_type": "code",
   "execution_count": 208,
   "id": "27e6e85d",
   "metadata": {},
   "outputs": [
    {
     "name": "stdout",
     "output_type": "stream",
     "text": [
      "Epoch 1/5\n",
      "56/56 [==============================] - 10s 43ms/step - loss: 0.3392 - val_loss: 0.0067\n",
      "Epoch 2/5\n",
      "56/56 [==============================] - 1s 26ms/step - loss: 0.0797 - val_loss: 0.0100\n",
      "Epoch 3/5\n",
      "56/56 [==============================] - 1s 26ms/step - loss: 0.0721 - val_loss: 0.0060\n",
      "Epoch 4/5\n",
      "56/56 [==============================] - 1s 25ms/step - loss: 0.0632 - val_loss: 0.0038\n",
      "Epoch 5/5\n",
      "56/56 [==============================] - 1s 25ms/step - loss: 0.0504 - val_loss: 0.0091\n"
     ]
    }
   ],
   "source": [
    "history = model.fit(trainX, trainY, epochs=5, batch_size=16, validation_split=0.1, verbose=1)"
   ]
  },
  {
   "cell_type": "code",
   "execution_count": 209,
   "id": "87adbb5b",
   "metadata": {},
   "outputs": [
    {
     "data": {
      "text/plain": [
       "<matplotlib.legend.Legend at 0x1f50abc6430>"
      ]
     },
     "execution_count": 209,
     "metadata": {},
     "output_type": "execute_result"
    },
    {
     "data": {
      "image/png": "[encoded data removed]",
      "text/plain": [
       "<Figure size 640x480 with 1 Axes>"
      ]
     },
     "metadata": {},
     "output_type": "display_data"
    }
   ],
   "source": [
    "from matplotlib import pyplot as plt\n",
    "\n",
    "plt.plot(history.history['loss'], label='Training loss')\n",
    "plt.plot(history.history['val_loss'], label='Validation loss')\n",
    "plt.legend()"
   ]
  },
  {
   "cell_type": "code",
   "execution_count": 233,
   "id": "4265e710",
   "metadata": {},
   "outputs": [],
   "source": [
    "from pandas.tseries.holiday import USFederalHolidayCalendar\n",
    "from pandas.tseries.offsets import CustomBusinessDay\n",
    "us_bd = CustomBusinessDay(calendar=USFederalHolidayCalendar())"
   ]
  },
  {
   "cell_type": "code",
   "execution_count": 418,
   "id": "7dd71f10",
   "metadata": {},
   "outputs": [
    {
     "name": "stdout",
     "output_type": "stream",
     "text": [
      "[Timestamp('2011-12-15 00:00:00', freq='C'), Timestamp('2011-12-16 00:00:00', freq='C'), Timestamp('2011-12-19 00:00:00', freq='C'), Timestamp('2011-12-20 00:00:00', freq='C'), Timestamp('2011-12-21 00:00:00', freq='C'), Timestamp('2011-12-22 00:00:00', freq='C'), Timestamp('2011-12-23 00:00:00', freq='C'), Timestamp('2011-12-27 00:00:00', freq='C'), Timestamp('2011-12-28 00:00:00', freq='C'), Timestamp('2011-12-29 00:00:00', freq='C'), Timestamp('2011-12-30 00:00:00', freq='C'), Timestamp('2012-01-03 00:00:00', freq='C'), Timestamp('2012-01-04 00:00:00', freq='C'), Timestamp('2012-01-05 00:00:00', freq='C'), Timestamp('2012-01-06 00:00:00', freq='C'), Timestamp('2012-01-09 00:00:00', freq='C'), Timestamp('2012-01-10 00:00:00', freq='C'), Timestamp('2012-01-11 00:00:00', freq='C'), Timestamp('2012-01-12 00:00:00', freq='C'), Timestamp('2012-01-13 00:00:00', freq='C'), Timestamp('2012-01-17 00:00:00', freq='C'), Timestamp('2012-01-18 00:00:00', freq='C'), Timestamp('2012-01-19 00:00:00', freq='C'), Timestamp('2012-01-20 00:00:00', freq='C'), Timestamp('2012-01-23 00:00:00', freq='C'), Timestamp('2012-01-24 00:00:00', freq='C'), Timestamp('2012-01-25 00:00:00', freq='C'), Timestamp('2012-01-26 00:00:00', freq='C'), Timestamp('2012-01-27 00:00:00', freq='C'), Timestamp('2012-01-30 00:00:00', freq='C'), Timestamp('2012-01-31 00:00:00', freq='C'), Timestamp('2012-02-01 00:00:00', freq='C'), Timestamp('2012-02-02 00:00:00', freq='C'), Timestamp('2012-02-03 00:00:00', freq='C'), Timestamp('2012-02-06 00:00:00', freq='C'), Timestamp('2012-02-07 00:00:00', freq='C'), Timestamp('2012-02-08 00:00:00', freq='C'), Timestamp('2012-02-09 00:00:00', freq='C'), Timestamp('2012-02-10 00:00:00', freq='C'), Timestamp('2012-02-13 00:00:00', freq='C'), Timestamp('2012-02-14 00:00:00', freq='C'), Timestamp('2012-02-15 00:00:00', freq='C'), Timestamp('2012-02-16 00:00:00', freq='C'), Timestamp('2012-02-17 00:00:00', freq='C'), Timestamp('2012-02-21 00:00:00', freq='C'), Timestamp('2012-02-22 00:00:00', freq='C'), Timestamp('2012-02-23 00:00:00', freq='C'), Timestamp('2012-02-24 00:00:00', freq='C'), Timestamp('2012-02-27 00:00:00', freq='C'), Timestamp('2012-02-28 00:00:00', freq='C'), Timestamp('2012-02-29 00:00:00', freq='C'), Timestamp('2012-03-01 00:00:00', freq='C'), Timestamp('2012-03-02 00:00:00', freq='C'), Timestamp('2012-03-05 00:00:00', freq='C'), Timestamp('2012-03-06 00:00:00', freq='C'), Timestamp('2012-03-07 00:00:00', freq='C'), Timestamp('2012-03-08 00:00:00', freq='C'), Timestamp('2012-03-09 00:00:00', freq='C'), Timestamp('2012-03-12 00:00:00', freq='C'), Timestamp('2012-03-13 00:00:00', freq='C'), Timestamp('2012-03-14 00:00:00', freq='C'), Timestamp('2012-03-15 00:00:00', freq='C'), Timestamp('2012-03-16 00:00:00', freq='C'), Timestamp('2012-03-19 00:00:00', freq='C'), Timestamp('2012-03-20 00:00:00', freq='C'), Timestamp('2012-03-21 00:00:00', freq='C'), Timestamp('2012-03-22 00:00:00', freq='C'), Timestamp('2012-03-23 00:00:00', freq='C'), Timestamp('2012-03-26 00:00:00', freq='C'), Timestamp('2012-03-27 00:00:00', freq='C'), Timestamp('2012-03-28 00:00:00', freq='C'), Timestamp('2012-03-29 00:00:00', freq='C'), Timestamp('2012-03-30 00:00:00', freq='C'), Timestamp('2012-04-02 00:00:00', freq='C'), Timestamp('2012-04-03 00:00:00', freq='C'), Timestamp('2012-04-04 00:00:00', freq='C'), Timestamp('2012-04-05 00:00:00', freq='C'), Timestamp('2012-04-06 00:00:00', freq='C'), Timestamp('2012-04-09 00:00:00', freq='C'), Timestamp('2012-04-10 00:00:00', freq='C'), Timestamp('2012-04-11 00:00:00', freq='C'), Timestamp('2012-04-12 00:00:00', freq='C'), Timestamp('2012-04-13 00:00:00', freq='C'), Timestamp('2012-04-16 00:00:00', freq='C'), Timestamp('2012-04-17 00:00:00', freq='C'), Timestamp('2012-04-18 00:00:00', freq='C'), Timestamp('2012-04-19 00:00:00', freq='C'), Timestamp('2012-04-20 00:00:00', freq='C'), Timestamp('2012-04-23 00:00:00', freq='C'), Timestamp('2012-04-24 00:00:00', freq='C'), Timestamp('2012-04-25 00:00:00', freq='C'), Timestamp('2012-04-26 00:00:00', freq='C'), Timestamp('2012-04-27 00:00:00', freq='C'), Timestamp('2012-04-30 00:00:00', freq='C'), Timestamp('2012-05-01 00:00:00', freq='C'), Timestamp('2012-05-02 00:00:00', freq='C'), Timestamp('2012-05-03 00:00:00', freq='C'), Timestamp('2012-05-04 00:00:00', freq='C'), Timestamp('2012-05-07 00:00:00', freq='C'), Timestamp('2012-05-08 00:00:00', freq='C'), Timestamp('2012-05-09 00:00:00', freq='C'), Timestamp('2012-05-10 00:00:00', freq='C'), Timestamp('2012-05-11 00:00:00', freq='C'), Timestamp('2012-05-14 00:00:00', freq='C'), Timestamp('2012-05-15 00:00:00', freq='C'), Timestamp('2012-05-16 00:00:00', freq='C'), Timestamp('2012-05-17 00:00:00', freq='C'), Timestamp('2012-05-18 00:00:00', freq='C'), Timestamp('2012-05-21 00:00:00', freq='C'), Timestamp('2012-05-22 00:00:00', freq='C'), Timestamp('2012-05-23 00:00:00', freq='C'), Timestamp('2012-05-24 00:00:00', freq='C'), Timestamp('2012-05-25 00:00:00', freq='C'), Timestamp('2012-05-29 00:00:00', freq='C'), Timestamp('2012-05-30 00:00:00', freq='C'), Timestamp('2012-05-31 00:00:00', freq='C'), Timestamp('2012-06-01 00:00:00', freq='C'), Timestamp('2012-06-04 00:00:00', freq='C'), Timestamp('2012-06-05 00:00:00', freq='C'), Timestamp('2012-06-06 00:00:00', freq='C'), Timestamp('2012-06-07 00:00:00', freq='C'), Timestamp('2012-06-08 00:00:00', freq='C'), Timestamp('2012-06-11 00:00:00', freq='C'), Timestamp('2012-06-12 00:00:00', freq='C'), Timestamp('2012-06-13 00:00:00', freq='C'), Timestamp('2012-06-14 00:00:00', freq='C'), Timestamp('2012-06-15 00:00:00', freq='C'), Timestamp('2012-06-18 00:00:00', freq='C'), Timestamp('2012-06-19 00:00:00', freq='C'), Timestamp('2012-06-20 00:00:00', freq='C'), Timestamp('2012-06-21 00:00:00', freq='C'), Timestamp('2012-06-22 00:00:00', freq='C'), Timestamp('2012-06-25 00:00:00', freq='C'), Timestamp('2012-06-26 00:00:00', freq='C'), Timestamp('2012-06-27 00:00:00', freq='C'), Timestamp('2012-06-28 00:00:00', freq='C'), Timestamp('2012-06-29 00:00:00', freq='C'), Timestamp('2012-07-02 00:00:00', freq='C'), Timestamp('2012-07-03 00:00:00', freq='C'), Timestamp('2012-07-05 00:00:00', freq='C'), Timestamp('2012-07-06 00:00:00', freq='C'), Timestamp('2012-07-09 00:00:00', freq='C'), Timestamp('2012-07-10 00:00:00', freq='C'), Timestamp('2012-07-11 00:00:00', freq='C'), Timestamp('2012-07-12 00:00:00', freq='C'), Timestamp('2012-07-13 00:00:00', freq='C'), Timestamp('2012-07-16 00:00:00', freq='C'), Timestamp('2012-07-17 00:00:00', freq='C'), Timestamp('2012-07-18 00:00:00', freq='C'), Timestamp('2012-07-19 00:00:00', freq='C'), Timestamp('2012-07-20 00:00:00', freq='C'), Timestamp('2012-07-23 00:00:00', freq='C'), Timestamp('2012-07-24 00:00:00', freq='C'), Timestamp('2012-07-25 00:00:00', freq='C'), Timestamp('2012-07-26 00:00:00', freq='C'), Timestamp('2012-07-27 00:00:00', freq='C'), Timestamp('2012-07-30 00:00:00', freq='C'), Timestamp('2012-07-31 00:00:00', freq='C'), Timestamp('2012-08-01 00:00:00', freq='C'), Timestamp('2012-08-02 00:00:00', freq='C'), Timestamp('2012-08-03 00:00:00', freq='C'), Timestamp('2012-08-06 00:00:00', freq='C'), Timestamp('2012-08-07 00:00:00', freq='C'), Timestamp('2012-08-08 00:00:00', freq='C'), Timestamp('2012-08-09 00:00:00', freq='C'), Timestamp('2012-08-10 00:00:00', freq='C'), Timestamp('2012-08-13 00:00:00', freq='C'), Timestamp('2012-08-14 00:00:00', freq='C'), Timestamp('2012-08-15 00:00:00', freq='C'), Timestamp('2012-08-16 00:00:00', freq='C'), Timestamp('2012-08-17 00:00:00', freq='C'), Timestamp('2012-08-20 00:00:00', freq='C'), Timestamp('2012-08-21 00:00:00', freq='C'), Timestamp('2012-08-22 00:00:00', freq='C'), Timestamp('2012-08-23 00:00:00', freq='C'), Timestamp('2012-08-24 00:00:00', freq='C'), Timestamp('2012-08-27 00:00:00', freq='C'), Timestamp('2012-08-28 00:00:00', freq='C'), Timestamp('2012-08-29 00:00:00', freq='C'), Timestamp('2012-08-30 00:00:00', freq='C'), Timestamp('2012-08-31 00:00:00', freq='C'), Timestamp('2012-09-04 00:00:00', freq='C'), Timestamp('2012-09-05 00:00:00', freq='C'), Timestamp('2012-09-06 00:00:00', freq='C'), Timestamp('2012-09-07 00:00:00', freq='C'), Timestamp('2012-09-10 00:00:00', freq='C'), Timestamp('2012-09-11 00:00:00', freq='C'), Timestamp('2012-09-12 00:00:00', freq='C'), Timestamp('2012-09-13 00:00:00', freq='C'), Timestamp('2012-09-14 00:00:00', freq='C'), Timestamp('2012-09-17 00:00:00', freq='C'), Timestamp('2012-09-18 00:00:00', freq='C'), Timestamp('2012-09-19 00:00:00', freq='C'), Timestamp('2012-09-20 00:00:00', freq='C'), Timestamp('2012-09-21 00:00:00', freq='C'), Timestamp('2012-09-24 00:00:00', freq='C'), Timestamp('2012-09-25 00:00:00', freq='C'), Timestamp('2012-09-26 00:00:00', freq='C'), Timestamp('2012-09-27 00:00:00', freq='C'), Timestamp('2012-09-28 00:00:00', freq='C'), Timestamp('2012-10-01 00:00:00', freq='C'), Timestamp('2012-10-02 00:00:00', freq='C'), Timestamp('2012-10-03 00:00:00', freq='C'), Timestamp('2012-10-04 00:00:00', freq='C'), Timestamp('2012-10-05 00:00:00', freq='C'), Timestamp('2012-10-09 00:00:00', freq='C'), Timestamp('2012-10-10 00:00:00', freq='C'), Timestamp('2012-10-11 00:00:00', freq='C'), Timestamp('2012-10-12 00:00:00', freq='C'), Timestamp('2012-10-15 00:00:00', freq='C'), Timestamp('2012-10-16 00:00:00', freq='C'), Timestamp('2012-10-17 00:00:00', freq='C'), Timestamp('2012-10-18 00:00:00', freq='C'), Timestamp('2012-10-19 00:00:00', freq='C'), Timestamp('2012-10-22 00:00:00', freq='C'), Timestamp('2012-10-23 00:00:00', freq='C'), Timestamp('2012-10-24 00:00:00', freq='C'), Timestamp('2012-10-25 00:00:00', freq='C'), Timestamp('2012-10-26 00:00:00', freq='C'), Timestamp('2012-10-29 00:00:00', freq='C'), Timestamp('2012-10-30 00:00:00', freq='C'), Timestamp('2012-10-31 00:00:00', freq='C'), Timestamp('2012-11-01 00:00:00', freq='C'), Timestamp('2012-11-02 00:00:00', freq='C'), Timestamp('2012-11-05 00:00:00', freq='C'), Timestamp('2012-11-06 00:00:00', freq='C'), Timestamp('2012-11-07 00:00:00', freq='C'), Timestamp('2012-11-08 00:00:00', freq='C'), Timestamp('2012-11-09 00:00:00', freq='C'), Timestamp('2012-11-13 00:00:00', freq='C'), Timestamp('2012-11-14 00:00:00', freq='C'), Timestamp('2012-11-15 00:00:00', freq='C'), Timestamp('2012-11-16 00:00:00', freq='C'), Timestamp('2012-11-19 00:00:00', freq='C'), Timestamp('2012-11-20 00:00:00', freq='C'), Timestamp('2012-11-21 00:00:00', freq='C'), Timestamp('2012-11-23 00:00:00', freq='C'), Timestamp('2012-11-26 00:00:00', freq='C'), Timestamp('2012-11-27 00:00:00', freq='C'), Timestamp('2012-11-28 00:00:00', freq='C'), Timestamp('2012-11-29 00:00:00', freq='C'), Timestamp('2012-11-30 00:00:00', freq='C'), Timestamp('2012-12-03 00:00:00', freq='C'), Timestamp('2012-12-04 00:00:00', freq='C'), Timestamp('2012-12-05 00:00:00', freq='C'), Timestamp('2012-12-06 00:00:00', freq='C'), Timestamp('2012-12-07 00:00:00', freq='C'), Timestamp('2012-12-10 00:00:00', freq='C'), Timestamp('2012-12-11 00:00:00', freq='C'), Timestamp('2012-12-12 00:00:00', freq='C'), Timestamp('2012-12-13 00:00:00', freq='C'), Timestamp('2012-12-14 00:00:00', freq='C'), Timestamp('2012-12-17 00:00:00', freq='C'), Timestamp('2012-12-18 00:00:00', freq='C'), Timestamp('2012-12-19 00:00:00', freq='C'), Timestamp('2012-12-20 00:00:00', freq='C'), Timestamp('2012-12-21 00:00:00', freq='C'), Timestamp('2012-12-24 00:00:00', freq='C'), Timestamp('2012-12-26 00:00:00', freq='C'), Timestamp('2012-12-27 00:00:00', freq='C'), Timestamp('2012-12-28 00:00:00', freq='C'), Timestamp('2012-12-31 00:00:00', freq='C'), Timestamp('2013-01-02 00:00:00', freq='C'), Timestamp('2013-01-03 00:00:00', freq='C'), Timestamp('2013-01-04 00:00:00', freq='C'), Timestamp('2013-01-07 00:00:00', freq='C'), Timestamp('2013-01-08 00:00:00', freq='C'), Timestamp('2013-01-09 00:00:00', freq='C'), Timestamp('2013-01-10 00:00:00', freq='C'), Timestamp('2013-01-11 00:00:00', freq='C'), Timestamp('2013-01-14 00:00:00', freq='C'), Timestamp('2013-01-15 00:00:00', freq='C'), Timestamp('2013-01-16 00:00:00', freq='C'), Timestamp('2013-01-17 00:00:00', freq='C'), Timestamp('2013-01-18 00:00:00', freq='C'), Timestamp('2013-01-22 00:00:00', freq='C'), Timestamp('2013-01-23 00:00:00', freq='C'), Timestamp('2013-01-24 00:00:00', freq='C'), Timestamp('2013-01-25 00:00:00', freq='C'), Timestamp('2013-01-28 00:00:00', freq='C'), Timestamp('2013-01-29 00:00:00', freq='C'), Timestamp('2013-01-30 00:00:00', freq='C'), Timestamp('2013-01-31 00:00:00', freq='C'), Timestamp('2013-02-01 00:00:00', freq='C'), Timestamp('2013-02-04 00:00:00', freq='C'), Timestamp('2013-02-05 00:00:00', freq='C'), Timestamp('2013-02-06 00:00:00', freq='C'), Timestamp('2013-02-07 00:00:00', freq='C'), Timestamp('2013-02-08 00:00:00', freq='C'), Timestamp('2013-02-11 00:00:00', freq='C'), Timestamp('2013-02-12 00:00:00', freq='C'), Timestamp('2013-02-13 00:00:00', freq='C'), Timestamp('2013-02-14 00:00:00', freq='C'), Timestamp('2013-02-15 00:00:00', freq='C'), Timestamp('2013-02-19 00:00:00', freq='C'), Timestamp('2013-02-20 00:00:00', freq='C'), Timestamp('2013-02-21 00:00:00', freq='C'), Timestamp('2013-02-22 00:00:00', freq='C'), Timestamp('2013-02-25 00:00:00', freq='C'), Timestamp('2013-02-26 00:00:00', freq='C')]\n"
     ]
    }
   ],
   "source": [
    "n_future = 300 #predicting for next 90 days\n",
    "\n",
    "predict_period_dates = pd.date_range(list(train_dates)[-1], periods=n_future, freq=us_bd).tolist()\n",
    "print(predict_period_dates)"
   ]
  },
  {
   "cell_type": "code",
   "execution_count": 419,
   "id": "b484cafb",
   "metadata": {},
   "outputs": [
    {
     "name": "stdout",
     "output_type": "stream",
     "text": [
      "10/10 [==============================] - 0s 4ms/step\n"
     ]
    }
   ],
   "source": [
    "prediction = model.predict(trainX[-n_future:]) #shape = (n, 1) where n is the n_days_for_prediction"
   ]
  },
  {
   "cell_type": "code",
   "execution_count": 420,
   "id": "23669d0d",
   "metadata": {},
   "outputs": [],
   "source": [
    "#Perform inverse transformation to rescale back to original range\n",
    "#Since we used 5 variables for transform, the inverse expects same dimensions\n",
    "#Therefore, let us copy our values 5 times and discard them after inverse transform\n",
    "prediction_copies = np.repeat(prediction, df_for_training.shape[1], axis=-1)\n",
    "y_pred_future = scaler.inverse_transform(prediction_copies)[:,0]"
   ]
  },
  {
   "cell_type": "code",
   "execution_count": 421,
   "id": "fd20e00a",
   "metadata": {},
   "outputs": [],
   "source": [
    "forecast_dates = []\n",
    "for time_i in predict_period_dates:\n",
    "    forecast_dates.append(time_i.date())\n",
    "    \n",
    "df_forecast = pd.DataFrame({'Date':np.array(forecast_dates), 'Open':y_pred_future})\n",
    "df_forecast['Date']=pd.to_datetime(df_forecast['Date'])"
   ]
  },
  {
   "cell_type": "code",
   "execution_count": 422,
   "id": "e82f6873",
   "metadata": {},
   "outputs": [],
   "source": [
    "original = df1[['Date', 'Open']]\n",
    "original['Date']=pd.to_datetime(original['Date'])\n"
   ]
  },
  {
   "cell_type": "code",
   "execution_count": 423,
   "id": "52fb79a9",
   "metadata": {},
   "outputs": [],
   "source": [
    "import seaborn as sns"
   ]
  },
  {
   "cell_type": "code",
   "execution_count": 424,
   "id": "9a44f196",
   "metadata": {},
   "outputs": [
    {
     "data": {
      "text/plain": [
       "<AxesSubplot:xlabel='Date', ylabel='Open'>"
      ]
     },
     "execution_count": 424,
     "metadata": {},
     "output_type": "execute_result"
    },
    {
     "data": {
      "image/png": "[encoded data removed]",
      "text/plain": [
       "<Figure size 640x480 with 1 Axes>"
      ]
     },
     "metadata": {},
     "output_type": "display_data"
    }
   ],
   "source": [
    "sns.lineplot(original['Date'], original['Open'])\n",
    "sns.lineplot(df_forecast['Date'], df_forecast['Open'])"
   ]
  },
  {
   "cell_type": "code",
   "execution_count": null,
   "id": "bfa6146f",
   "metadata": {},
   "outputs": [],
   "source": []
  },
  {
   "cell_type": "code",
   "execution_count": null,
   "id": "2e11916e",
   "metadata": {},
   "outputs": [],
   "source": []
  }
 ],
 "metadata": {
  "kernelspec": {
   "display_name": "Python 3 (ipykernel)",
   "language": "python",
   "name": "python3"
  },
  "language_info": {
   "codemirror_mode": {
    "name": "ipython",
    "version": 3
   },
   "file_extension": ".py",
   "mimetype": "text/x-python",
   "name": "python",
   "nbconvert_exporter": "python",
   "pygments_lexer": "ipython3",
   "version": "3.9.13"
  }
 },
 "nbformat": 4,
 "nbformat_minor": 5
}
